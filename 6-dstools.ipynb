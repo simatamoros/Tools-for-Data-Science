{
  "metadata": {
    "language_info": {
      "codemirror_mode": {
        "name": "python",
        "version": 3
      },
      "file_extension": ".py",
      "mimetype": "text/x-python",
      "name": "python",
      "nbconvert_exporter": "python",
      "pygments_lexer": "ipython3",
      "version": "3.8"
    },
    "kernelspec": {
      "name": "python",
      "display_name": "Python (Pyodide)",
      "language": "python"
    }
  },
  "nbformat_minor": 4,
  "nbformat": 4,
  "cells": [
    {
      "cell_type": "markdown",
      "source": "## Data Science Tools\n\n| Tool         | Description                  |\n|--------------|------------------------------|\n| Python       | Programming Language         |\n| R            | Statistical Computing        |\n| SQL          | Database Query Language      |\n| Pandas       | Data Manipulation Library    |\n| Scikit-Learn | Machine Learning Library     |\n| Matplotlib   | Data Visualization Library   |\n| Jupyter      | Interactive Notebooks        |\n| TensorFlow   | Deep Learning Framework      |",
      "metadata": {}
    },
    {
      "cell_type": "code",
      "source": "",
      "metadata": {},
      "execution_count": null,
      "outputs": []
    }
  ]
}